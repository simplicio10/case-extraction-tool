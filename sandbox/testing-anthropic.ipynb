{
 "cells": [
  {
   "cell_type": "code",
   "execution_count": 2,
   "id": "9216bdf9-edda-47a1-8140-d69277fba76a",
   "metadata": {},
   "outputs": [],
   "source": [
    "from anthropic import Anthropic\n",
    "from dotenv import load_dotenv\n",
    "import json"
   ]
  },
  {
   "cell_type": "code",
   "execution_count": 3,
   "id": "2bf07012-b457-4d29-83d9-949622e24e38",
   "metadata": {},
   "outputs": [],
   "source": [
    "load_dotenv()\n",
    "\n",
    "client = Anthropic()\n",
    "\n",
    "with open(\"three-dog-bakery-llc-order-on-tro.txt\", \"rb\") as f:\n",
    "    file_content = f.read()\n",
    "\n",
    "MODEL_NAME = \"claude-3-5-haiku-latest\""
   ]
  },
  {
   "cell_type": "code",
   "execution_count": 16,
   "id": "18a0d7ff-88d2-4886-a507-9077b02b84f1",
   "metadata": {},
   "outputs": [],
   "source": [
    "system = \"\"\"\n",
    "You are an experienced, thorough, and detail-oriented paralegal at a law firm. Your job is to support attorneys in your firm, who have exacting specifications.\n",
    "\"\"\"\n",
    "\n",
    "prompt_1 = f\"\"\"\n",
    "Included below is a legal brief:\n",
    "<brief>\n",
    "{file_content}\n",
    "</brief>\n",
    "\n",
    "Please carefully review the brief and provide me a list of every case, court rule, or statute that is cited in the brief. Before answering, you should double-check your work to make sure you have not missed a case or included one that is not present.\n",
    "Please put your double-checked work in <double_check> tags and your final list of cases in <final_list> tags.\n",
    "All cases should go in <case> tags, all statutes in <statute> tags, and all court rules in <rule> tags.\n",
    "Finally, include the number of cases, statutes, and court rules you found in <count> tags. Please include only the number and nothing else.\n",
    "\"\"\""
   ]
  },
  {
   "cell_type": "code",
   "execution_count": 17,
   "id": "a7cad0ea-4f20-41b0-83ba-4c261cfa5419",
   "metadata": {},
   "outputs": [],
   "source": [
    "message_1 = client.messages.create(\n",
    "    model=MODEL_NAME,\n",
    "    max_tokens=1024,\n",
    "    system=system,\n",
    "    messages=[\n",
    "        {\n",
    "            \"role\": \"user\",\n",
    "            \"content\": prompt_1\n",
    "        }\n",
    "    ]\n",
    ")"
   ]
  },
  {
   "cell_type": "code",
   "execution_count": 18,
   "id": "8012317b-30d0-4ed1-bd36-f14d307ee824",
   "metadata": {},
   "outputs": [
    {
     "name": "stdout",
     "output_type": "stream",
     "text": [
      "Let me carefully review the brief and compile the citations:\n",
      "\n",
      "<double_check>\n",
      "After a thorough review, I found the following citations:\n",
      "\n",
      "Cases:\n",
      "1. Mazurek v. Armstrong, 520 U.S. 968, 972 (1997)\n",
      "2. S.B. McLaughlin & Co. v. Tudor Oaks Condo. Project, 877 F.2d 707, 708 (8th Cir. 1989)\n",
      "3. Phelps-Roper v. Nixon, 509 F.3d 480, 484 (8th Cir. 2007)\n",
      "4. Dataphase Sys. Inc. v. CL Sys., Inc., 640 F.2d 109, 113 (8th Cir. 1981) (en banc)\n",
      "5. Noodles Dev., LP. v. Ninth St. Partners, LLP, 507 F. Supp. 2d 1030, 1034 (E.D. Mo. 2007)\n",
      "6. Iowa Utils. Bd. v. F.C.C., 109 F.3d 418, 425 (8th Cir. 1996)\n",
      "7. Local Union No. 884, United Rubber, Cork, Linoleum, & Plastic Workers of Am. v. Bridgestone / Firestone, Inc., 61 F.3d 1347, 1355 (8th Cir. 1995)\n",
      "8. Watkins Inc. v. Lewis, 346 F.3d 841, 844 (8th Cir. 2003)\n",
      "9. Ng v. Bd. of Regents, 64 F.4th 992, 997 (8th Cir. 2023)\n",
      "\n",
      "Court Rules:\n",
      "1. Fed. R. Civ. P. 65(b)(1)(A)\n",
      "</double_check>\n",
      "\n",
      "<final_list>\n",
      "Cases:\n",
      "1. Mazurek v. Armstrong, 520 U.S. 968, 972 (1997)\n",
      "2. S.B. McLaughlin & Co. v. Tudor Oaks Condo. Project, 877 F.2d 707, 708 (8th Cir. 1989)\n",
      "3. Phelps-Roper v. Nixon, 509 F.3d 480, 484 (8th Cir. 2007)\n",
      "4. Dataphase Sys. Inc. v. CL Sys., Inc., 640 F.2d 109, 113 (8th Cir. 1981) (en banc)\n",
      "5. Noodles Dev., LP. v. Ninth St. Partners, LLP, 507 F. Supp. 2d 1030, 1034 (E.D. Mo. 2007)\n",
      "6. Iowa Utils. Bd. v. F.C.C., 109 F.3d 418, 425 (8th Cir. 1996)\n",
      "7. Local Union No. 884, United Rubber, Cork, Linoleum, & Plastic Workers of Am. v. Bridgestone / Firestone, Inc., 61 F.3d 1347, 1355 (8th Cir. 1995)\n",
      "8. Watkins Inc. v. Lewis, 346 F.3d 841, 844 (8th Cir. 2003)\n",
      "9. Ng v. Bd. of Regents, 64 F.4th 992, 997 (8th Cir. 2023)\n",
      "\n",
      "Court Rules:\n",
      "1. Fed. R. Civ. P. 65(b)(1)(A)\n",
      "</final_list>\n",
      "\n",
      "<count>10</count>\n"
     ]
    }
   ],
   "source": [
    "citation_list = message_1.content[0].text\n",
    "print(mess_1_ans)"
   ]
  },
  {
   "cell_type": "code",
   "execution_count": 19,
   "id": "1f7cf474-8595-45f4-b2aa-b26e59843768",
   "metadata": {},
   "outputs": [],
   "source": [
    "prompt_2 = f\"\"\"\n",
    "<next_request>\n",
    "I would now like you to make changes to the citation format of the cases in <final_list>. For background, cases are published in \"reporters,\" and the citation usually have the following structure:\n",
    "<caption>, <reporter_volume> <reporter_abbreviation> <starting_page_citation>, <pin_citation> (<court> <year>).\n",
    "\n",
    "You should note the following subtleties:\n",
    "1) The pin citation is optional, and is typically used to refer to a specific quote or point made in the case.\n",
    "2) If a case is decided by the highest court (typically the Supreme Court) in the federal or state jurisdiction and it is obvious from the name of the reporter which jurisdiction the case is from, the court is not listed.\n",
    "</next_request>\n",
    "\n",
    "<examples>\n",
    "For example:\n",
    "\n",
    "In Brown v. Board of Education, 347 U.S. 483, 490 (1954):\n",
    "-The caption is \"Brown v. Board of Education\"\n",
    "-The reporter volume is number 347\n",
    "-The reporter abbreviation is \"U.S.\" (referring to the U.S. reports, which reports cases from the U.S. Supreme Court)\n",
    "-The case starts on page 483 of volume 347 of the U.S. reports\n",
    "-The pin citation is to page 490\n",
    "-No court is listed because this case is from the U.S. Supreme Court\n",
    "-The opinion was published in 1954\n",
    "\n",
    "In Rollins v. Elwood, 141 Ill. 2d. 244 (1990):\n",
    "-The caption is \"Rollins v. Elwood\"\n",
    "-The reporter volume is number 141\n",
    "-The reporter abbreviation is \"Ill. 2d\" (referring to the second Illinois reporter, which reports cases from the Illinois Supreme Court)\n",
    "-The case starts on page 244 of volume 141 of the second Illinois reporter\n",
    "-There is no pin ciation\n",
    "-No court is listed because this case is from the Illinois Supreme Court\n",
    "-The opinion was published in 1990\n",
    "\n",
    "Alternatively, Rollins v. Elwood, 565 N.E.2d 1302 (Ill. 1990):\n",
    "-The caption is \"Rollins v. Elwood\"\n",
    "-The reporter volume is number 565\n",
    "-The reporter abbreviation is \"N.E.2d\" (referring to the second Northeast reporter)\n",
    "-The case starts on page 1302 of volume 565 of the second Northeast reporter\n",
    "-There is no pin ciation\n",
    "-The abbreviation \"Ill.\" indicates this case is Illinois Supreme Court\n",
    "-The opinion was published in 1990\n",
    "\n",
    "The two prior cases are the same, but have slightly different citation formats due to the differences in the reporter.\n",
    "</examples\n",
    "\n",
    "<task>\n",
    "You should now take the list of cases in <final_list> and remove any pin citations. Return any statutes and court rules in the same format as before.\n",
    "</task>\n",
    "\"\"\""
   ]
  },
  {
   "cell_type": "code",
   "execution_count": 20,
   "id": "f6ceb39a-bdfa-46a1-914d-b22499563bba",
   "metadata": {},
   "outputs": [],
   "source": [
    "message_2 = client.messages.create(\n",
    "    model=MODEL_NAME,\n",
    "    max_tokens=1024,\n",
    "    system=system,\n",
    "    messages=[\n",
    "        {\n",
    "            \"role\": \"user\",\n",
    "            \"content\": prompt_1\n",
    "        },\n",
    "        {\n",
    "            \"role\": \"assistant\",\n",
    "            \"content\": citation_list\n",
    "        },\n",
    "        {\n",
    "            \"role\": \"user\",\n",
    "            \"content\": prompt_2\n",
    "        }\n",
    "    ]\n",
    ")"
   ]
  },
  {
   "cell_type": "code",
   "execution_count": 21,
   "id": "4209e605-0201-4ad5-95fb-0856aea549e6",
   "metadata": {},
   "outputs": [
    {
     "name": "stdout",
     "output_type": "stream",
     "text": [
      "Here's the updated list without pin citations:\n",
      "\n",
      "<final_list>\n",
      "Cases:\n",
      "<case>Mazurek v. Armstrong, 520 U.S. 968 (1997)</case>\n",
      "<case>S.B. McLaughlin & Co. v. Tudor Oaks Condo. Project, 877 F.2d 707 (8th Cir. 1989)</case>\n",
      "<case>Phelps-Roper v. Nixon, 509 F.3d 480 (8th Cir. 2007)</case>\n",
      "<case>Dataphase Sys. Inc. v. CL Sys., Inc., 640 F.2d 109 (8th Cir. 1981)</case>\n",
      "<case>Noodles Dev., LP. v. Ninth St. Partners, LLP, 507 F. Supp. 2d 1030 (E.D. Mo. 2007)</case>\n",
      "<case>Iowa Utils. Bd. v. F.C.C., 109 F.3d 418 (8th Cir. 1996)</case>\n",
      "<case>Local Union No. 884, United Rubber, Cork, Linoleum, & Plastic Workers of Am. v. Bridgestone / Firestone, Inc., 61 F.3d 1347 (8th Cir. 1995)</case>\n",
      "<case>Watkins Inc. v. Lewis, 346 F.3d 841 (8th Cir. 2003)</case>\n",
      "<case>Ng v. Bd. of Regents, 64 F.4th 992 (8th Cir. 2023)</case>\n",
      "\n",
      "Court Rules:\n",
      "<rule>Fed. R. Civ. P. 65(b)(1)(A)</rule>\n",
      "\n",
      "Statutes:\n",
      "None\n",
      "</final_list>\n",
      "\n",
      "<count>9</count>\n"
     ]
    }
   ],
   "source": [
    "clean_citation_list = message_2.content[0].text\n",
    "print(clean_citation_list)"
   ]
  },
  {
   "cell_type": "code",
   "execution_count": 31,
   "id": "cd290df0-bb0c-44e5-9ed1-5dd2be033181",
   "metadata": {},
   "outputs": [],
   "source": [
    "tools = [\n",
    "        {\n",
    "            \"name\": \"structured_case_citation\",\n",
    "            \"description\": \"Extracts elements of each case citation in <case> tags.\",\n",
    "            \"input_schema\": {\n",
    "                \"type\": \"object\",\n",
    "                \"properties\": {\n",
    "                    \"cases\": {\n",
    "                        \"type\": \"array\",\n",
    "                        \"items\": {\n",
    "                            \"type\": \"object\",\n",
    "                            \"properties\": {\n",
    "                                \"caption\": {\"type\": \"string\", \"description\": \"The case caption.\"},\n",
    "                                \"reporter\": {\"type\": \"string\", \"description\": \"The volume, name, and starting page number of the reporter\"},\n",
    "                                \"court\": {\"type\": \"string\", \"description\": \"The name of the court issuing the opinion.\"},\n",
    "                                \"year\": {\"type\": \"string\", \"description\": \"The year the opinion was issued.\"}\n",
    "                                },\n",
    "                            \"required\": [\"caption\", \"reporter\", \"court\", \"year\"]\n",
    "                            }\n",
    "                        }\n",
    "                    },\n",
    "                \"required\": [\"cases\"]\n",
    "            }\n",
    "        }\n",
    "]\n",
    "\n",
    "prompt_3 = \"\"\"\n",
    "Now use the structured_case_citation tool.\n",
    "\"\"\""
   ]
  },
  {
   "cell_type": "code",
   "execution_count": 32,
   "id": "295b8024-f618-433a-8206-07a5eb7ced10",
   "metadata": {},
   "outputs": [],
   "source": [
    "message_3 = client.messages.create(\n",
    "    model=MODEL_NAME,\n",
    "    max_tokens=1024,\n",
    "    system=system,\n",
    "    tools=tools,\n",
    "    messages=[\n",
    "        {\n",
    "            \"role\": \"user\",\n",
    "            \"content\": prompt_1\n",
    "        },\n",
    "        {\n",
    "            \"role\": \"assistant\",\n",
    "            \"content\": citation_list\n",
    "        },\n",
    "        {\n",
    "            \"role\": \"user\",\n",
    "            \"content\": prompt_2\n",
    "        },\n",
    "        {\n",
    "            \"role\": \"assistant\",\n",
    "            \"content\": clean_citation_list\n",
    "        },\n",
    "        {\n",
    "            \"role\": \"user\",\n",
    "            \"content\": prompt_3\n",
    "        }\n",
    "    ]\n",
    ")"
   ]
  },
  {
   "cell_type": "code",
   "execution_count": 36,
   "id": "2a436ff5-89b1-4b0a-a281-d62b679fb450",
   "metadata": {},
   "outputs": [
    {
     "name": "stdout",
     "output_type": "stream",
     "text": [
      "{'cases': [{'caption': 'Mazurek v. Armstrong', 'reporter': '520 U.S. 968', 'court': 'U.S.', 'year': '1997'}, {'caption': 'S.B. McLaughlin & Co. v. Tudor Oaks Condo. Project', 'reporter': '877 F.2d 707', 'court': '8th Cir.', 'year': '1989'}, {'caption': 'Phelps-Roper v. Nixon', 'reporter': '509 F.3d 480', 'court': '8th Cir.', 'year': '2007'}, {'caption': 'Dataphase Sys. Inc. v. CL Sys., Inc.', 'reporter': '640 F.2d 109', 'court': '8th Cir.', 'year': '1981'}, {'caption': 'Noodles Dev., LP. v. Ninth St. Partners, LLP', 'reporter': '507 F. Supp. 2d 1030', 'court': 'E.D. Mo.', 'year': '2007'}, {'caption': 'Iowa Utils. Bd. v. F.C.C.', 'reporter': '109 F.3d 418', 'court': '8th Cir.', 'year': '1996'}, {'caption': 'Local Union No. 884, United Rubber, Cork, Linoleum, & Plastic Workers of Am. v. Bridgestone / Firestone, Inc.', 'reporter': '61 F.3d 1347', 'court': '8th Cir.', 'year': '1995'}, {'caption': 'Watkins Inc. v. Lewis', 'reporter': '346 F.3d 841', 'court': '8th Cir.', 'year': '2003'}, {'caption': 'Ng v. Bd. of Regents', 'reporter': '64 F.4th 992', 'court': '8th Cir.', 'year': '2023'}]}\n"
     ]
    }
   ],
   "source": [
    "for content in message_3.content:\n",
    "    if content.type == \"tool_use\" and content.name == \"structured_case_citation\":\n",
    "        print(content.input)"
   ]
  },
  {
   "cell_type": "code",
   "execution_count": null,
   "id": "a40f6f1a-52be-4b78-9d87-b4125a2c8a51",
   "metadata": {},
   "outputs": [],
   "source": []
  }
 ],
 "metadata": {
  "kernelspec": {
   "display_name": "Python 3 (ipykernel)",
   "language": "python",
   "name": "python3"
  },
  "language_info": {
   "codemirror_mode": {
    "name": "ipython",
    "version": 3
   },
   "file_extension": ".py",
   "mimetype": "text/x-python",
   "name": "python",
   "nbconvert_exporter": "python",
   "pygments_lexer": "ipython3",
   "version": "3.12.11"
  }
 },
 "nbformat": 4,
 "nbformat_minor": 5
}
