{
 "cells": [
  {
   "cell_type": "code",
   "execution_count": 12,
   "id": "9216bdf9-edda-47a1-8140-d69277fba76a",
   "metadata": {},
   "outputs": [],
   "source": [
    "from anthropic import Anthropic\n",
    "from dotenv import load_dotenv\n",
    "import json"
   ]
  },
  {
   "cell_type": "code",
   "execution_count": 16,
   "id": "2bf07012-b457-4d29-83d9-949622e24e38",
   "metadata": {},
   "outputs": [],
   "source": [
    "load_dotenv()\n",
    "\n",
    "client = Anthropic()\n",
    "\n",
    "with open(\"three-dog-bakery-llc-order-on-tro.txt\", \"rb\") as f:\n",
    "    file_content = f.read()\n",
    "\n",
    "MODEL_NAME = \"claude-3-5-haiku-latest\""
   ]
  },
  {
   "cell_type": "code",
   "execution_count": 24,
   "id": "18a0d7ff-88d2-4886-a507-9077b02b84f1",
   "metadata": {},
   "outputs": [],
   "source": [
    "system = \"\"\"\n",
    "You are an experienced, thorough, and detail-oriented paralegal at a law firm. Your job is to support attorneys in your firm, who have exacting specifications.\n",
    "\"\"\"\n",
    "\n",
    "prompt = f\"\"\"\n",
    "Included below is a legal brief:\n",
    "<brief>\n",
    "{file_content}\n",
    "</brief>\n",
    "\n",
    "Please carefully review the brief and provide me a list of every case, court rule, or statute that is cited in the brief. Before answering, you should double-check your work to make sure you have not missed a case or included one that is not present.\n",
    "Please put your double-checked work in <double_check> tags and your final list of cases in <final_list> tags.\n",
    "Finally, include the number of cases, statutes, and court rules you found in <count> tags. Please include only the number and nothing else.\n",
    "\"\"\""
   ]
  },
  {
   "cell_type": "code",
   "execution_count": 25,
   "id": "a7cad0ea-4f20-41b0-83ba-4c261cfa5419",
   "metadata": {},
   "outputs": [],
   "source": [
    "message = client.messages.create(\n",
    "    model=MODEL_NAME,\n",
    "    max_tokens=1024,\n",
    "    messages=[\n",
    "        {\n",
    "            \"role\": \"user\",\n",
    "            \"content\": prompt\n",
    "        },\n",
    "    ]\n",
    ")"
   ]
  },
  {
   "cell_type": "code",
   "execution_count": 27,
   "id": "f6ceb39a-bdfa-46a1-914d-b22499563bba",
   "metadata": {},
   "outputs": [
    {
     "name": "stdout",
     "output_type": "stream",
     "text": [
      "Let me carefully review the brief for citations:\n",
      "\n",
      "<double_check>\n",
      "Cases:\n",
      "1. Mazurek v. Armstrong, 520 U.S. 968, 972 (1997)\n",
      "2. S.B. McLaughlin & Co. v. Tudor Oaks Condo. Project, 877 F.2d 707, 708 (8th Cir. 1989)\n",
      "3. Phelps-Roper v. Nixon, 509 F.3d 480, 484 (8th Cir. 2007)\n",
      "4. Dataphase Sys. Inc. v. CL Sys., Inc., 640 F.2d 109, 113 (8th Cir. 1981) (en banc)\n",
      "5. Noodles Dev., LP. v. Ninth St. Partners, LLP, 507 F. Supp. 2d 1030, 1034 (E.D. Mo. 2007)\n",
      "6. Iowa Utils. Bd. v. F.C.C., 109 F.3d 418, 425 (8th Cir. 1996)\n",
      "7. Local Union No. 884, United Rubber, Cork, Linoleum, & Plastic Workers of Am. v. Bridgestone / Firestone, Inc., 61 F.3d 1347, 1355 (8th Cir. 1995)\n",
      "8. Watkins Inc. v. Lewis, 346 F.3d 841, 844 (8th Cir. 2003)\n",
      "9. Ng v. Bd. of Regents, 64 F.4th 992, 997 (8th Cir. 2023)\n",
      "\n",
      "Court Rules:\n",
      "1. Fed. R. Civ. P. 65(b)(1)(A)\n",
      "</double_check>\n",
      "\n",
      "<final_list>\n",
      "Cases:\n",
      "1. Mazurek v. Armstrong, 520 U.S. 968, 972 (1997)\n",
      "2. S.B. McLaughlin & Co. v. Tudor Oaks Condo. Project, 877 F.2d 707, 708 (8th Cir. 1989)\n",
      "3. Phelps-Roper v. Nixon, 509 F.3d 480, 484 (8th Cir. 2007)\n",
      "4. Dataphase Sys. Inc. v. CL Sys., Inc., 640 F.2d 109, 113 (8th Cir. 1981) (en banc)\n",
      "5. Noodles Dev., LP. v. Ninth St. Partners, LLP, 507 F. Supp. 2d 1030, 1034 (E.D. Mo. 2007)\n",
      "6. Iowa Utils. Bd. v. F.C.C., 109 F.3d 418, 425 (8th Cir. 1996)\n",
      "7. Local Union No. 884, United Rubber, Cork, Linoleum, & Plastic Workers of Am. v. Bridgestone / Firestone, Inc., 61 F.3d 1347, 1355 (8th Cir. 1995)\n",
      "8. Watkins Inc. v. Lewis, 346 F.3d 841, 844 (8th Cir. 2003)\n",
      "9. Ng v. Bd. of Regents, 64 F.4th 992, 997 (8th Cir. 2023)\n",
      "\n",
      "Court Rules:\n",
      "1. Fed. R. Civ. P. 65(b)(1)(A)\n",
      "</final_list>\n",
      "\n",
      "<count>10</count>\n"
     ]
    }
   ],
   "source": [
    "print(message.content[0].text)"
   ]
  },
  {
   "cell_type": "code",
   "execution_count": null,
   "id": "4209e605-0201-4ad5-95fb-0856aea549e6",
   "metadata": {},
   "outputs": [],
   "source": []
  }
 ],
 "metadata": {
  "kernelspec": {
   "display_name": "Python 3 (ipykernel)",
   "language": "python",
   "name": "python3"
  },
  "language_info": {
   "codemirror_mode": {
    "name": "ipython",
    "version": 3
   },
   "file_extension": ".py",
   "mimetype": "text/x-python",
   "name": "python",
   "nbconvert_exporter": "python",
   "pygments_lexer": "ipython3",
   "version": "3.12.11"
  }
 },
 "nbformat": 4,
 "nbformat_minor": 5
}
